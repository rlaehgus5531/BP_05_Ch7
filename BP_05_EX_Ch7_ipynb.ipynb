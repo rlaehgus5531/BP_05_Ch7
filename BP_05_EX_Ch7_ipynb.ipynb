{
  "nbformat": 4,
  "nbformat_minor": 0,
  "metadata": {
    "colab": {
      "provenance": [],
      "authorship_tag": "ABX9TyPHA/ckTjBYCQM1UxGAZeKY",
      "include_colab_link": true
    },
    "kernelspec": {
      "name": "python3",
      "display_name": "Python 3"
    },
    "language_info": {
      "name": "python"
    }
  },
  "cells": [
    {
      "cell_type": "markdown",
      "metadata": {
        "id": "view-in-github",
        "colab_type": "text"
      },
      "source": [
        "<a href=\"https://colab.research.google.com/github/rlaehgus5531/BP_05_Ch7/blob/main/BP_05_EX_Ch7_ipynb.ipynb\" target=\"_parent\"><img src=\"https://colab.research.google.com/assets/colab-badge.svg\" alt=\"Open In Colab\"/></a>"
      ]
    },
    {
      "cell_type": "markdown",
      "source": [
        "1.눈사람그리는 함수를 작성하고 이함수를 여러번 호출하여 랜덤한 위치에 눈사람을 그리는 프로그램을 작성하라 아래 실행결과와 최대한 비슷하게 작성해보자"
      ],
      "metadata": {
        "id": "LsxkgjqcAO30"
      }
    },
    {
      "cell_type": "code",
      "source": [
        "import turtle\n",
        "t = turtle.Turtle()\n",
        "t.shape(\"turtle\")\n",
        "t.color(\"black\", \"white\")\n",
        "s = turtle.Screen(); s.bgcolor('skyblue')\n",
        "def draw_snowman(x, y):\n",
        "  t.up()\n",
        "  t.goto(x, y)\n",
        "  t.down()\n",
        "  t.begin_fill()\n",
        "  t.circle(20)\n",
        "  t.end_fill()\n",
        "  t.goto(x, y-25)\n",
        "  t.setheading(135)\n",
        "  t.forward(50)\n",
        "  t.backward(50)\n",
        "  t.setheading(30)\n",
        "  t.forward(50)]\n",
        "  t.backward(50)\n",
        "  t.setheading(0)\n",
        "  t.begin_fill()\n",
        "  t.circle(15)\n",
        "  t.end_fill()\n",
        "  t.goto(x, y-70)\n",
        "  t.begin_fill()\n",
        "  t.circle(30)\n",
        "  t.end_fill()\n",
        "draw_snowman(0, 0)\n",
        "draw_snowman(100, 0)\n",
        "draw_snowman(200, 0)"
      ],
      "metadata": {
        "id": "8Du8XswUCbUW"
      },
      "execution_count": null,
      "outputs": []
    },
    {
      "cell_type": "markdown",
      "source": [
        "2.6각형을 그리는 draw_hexa()함수를 작성하고 이함수를 호출하여 다음과 같은 벌집모양을 화면에 그리자"
      ],
      "metadata": {
        "id": "SIhOQHM4C5qw"
      }
    },
    {
      "cell_type": "code",
      "source": [
        "import turtle\n",
        "t = turtle.Turtle()\n",
        "t.shape(\"turtle\")\n",
        "t.speed(0)\n",
        "def hexagon():\n",
        "  for i in range(6):\n",
        "    turtle.forward(100)\n",
        "    turtle.left(360/6)\n",
        "for i in range (6):\n",
        "  hexagon()\n",
        "  turtle.forward(100)\n",
        "  turtle.right(60)"
      ],
      "metadata": {
        "id": "jyA5oa6QDJzb"
      },
      "execution_count": null,
      "outputs": []
    },
    {
      "cell_type": "markdown",
      "source": [
        "3.함수f(x)=x2+1을 계산하는 함수를 작성하고 이 함수를 이용하여 화면에 f(x)를 그려보자"
      ],
      "metadata": {
        "id": "nlFJZlSpDOrc"
      }
    },
    {
      "cell_type": "code",
      "source": [
        "import turtle\n",
        "t = turtle.Turtle()\n",
        "t.shape(\"turtle\")\n",
        "t.speed(0)\n",
        "def f(x):\n",
        "  return x**2+1\n",
        "t.goto(200, 0)\n",
        "t.goto(0, 0)\n",
        "t.goto(0, 200)\n",
        "t.goto(0, 0)\n",
        "for x in range(150):\n",
        "  t.goto(x, int(0.01*f(x)))"
      ],
      "metadata": {
        "id": "CsxEUFvRDZ_I"
      },
      "execution_count": null,
      "outputs": []
    },
    {
      "cell_type": "markdown",
      "source": [
        "4.터틀 그래픽에서 거북이를 움직이지 않고 선을 긋는 함수 draw_line()을 정의하고 이것을 이용하여 다음과 같은 거미줄과 같은 모양을 그려보자. 거북이는 항상 중앙에 위치한다."
      ],
      "metadata": {
        "id": "u5iQxNVHDfsV"
      }
    },
    {
      "cell_type": "code",
      "source": [
        "import turtle\n",
        "t = turtle.Turtle()\n",
        "t.shape(\"turtle\")\n",
        "t.speed(0)\n",
        "def draw_line():\n",
        "  t.forward(100)\n",
        "  t.backward(100)\n",
        "for x in range(12):\n",
        "  t.right(30)\n",
        "  draw_line()"
      ],
      "metadata": {
        "id": "EQtsh7A6D3B2"
      },
      "execution_count": null,
      "outputs": []
    },
    {
      "cell_type": "markdown",
      "source": [
        "5.다음과 같이 이름을 받아서 생일 축하 노래를 출력하는 함수 happyBirtday()를 작성하고 테스트하시오."
      ],
      "metadata": {
        "id": "j3AHhEeQD7Zt"
      }
    },
    {
      "cell_type": "code",
      "source": [
        "def happyBirthday(person):\n",
        "  print(\"Happy Birthday to you!\")\n",
        "  print(\"Happy Birthday to you!\")\n",
        "  print(\"Happy Birthday, dear \" + person)\n",
        "  print(\"Happy Birthday to you!\")\n",
        "happyBirthday(\"홍길동\")"
      ],
      "metadata": {
        "colab": {
          "base_uri": "https://localhost:8080/"
        },
        "id": "Yt0p-yy3D-WN",
        "outputId": "a974cdd4-a5f2-4fbf-d213-02a85e5c2ace"
      },
      "execution_count": 2,
      "outputs": [
        {
          "output_type": "stream",
          "name": "stdout",
          "text": [
            "Happy Birthday to you!\n",
            "Happy Birthday to you!\n",
            "Happy Birthday, dear 홍길동\n",
            "Happy Birthday to you!\n"
          ]
        }
      ]
    },
    {
      "cell_type": "markdown",
      "source": [
        "6.사용자로부터 2개의 정수를 받아서 수학 문제를 만들어서 화면에 출력하는 함수를 작성하고 테스트하시오."
      ],
      "metadata": {
        "id": "WRzGWgMLEEOl"
      }
    },
    {
      "cell_type": "code",
      "source": [
        "def sumProblem(x, y):\n",
        "  sum = x + y\n",
        "  sentence = \"정수\" + str(x) + \"+\"+str(y)+\"의 합은?\"\n",
        "  print(sentence)\n",
        "def main():\n",
        "  a = int(input(\"첫 번째 정수: \"))\n",
        "  b = int(input(\"두 번째 정수: \"))\n",
        "  sumProblem(a, b)\n",
        "main()"
      ],
      "metadata": {
        "colab": {
          "base_uri": "https://localhost:8080/"
        },
        "id": "52j5_D3tEEi1",
        "outputId": "95076ef5-1a24-4ed3-b215-d5d52c742bb9"
      },
      "execution_count": 3,
      "outputs": [
        {
          "output_type": "stream",
          "name": "stdout",
          "text": [
            "첫 번째 정수: 10\n",
            "두 번째 정수: 20\n",
            "정수10+20의 합은?\n"
          ]
        }
      ]
    },
    {
      "cell_type": "markdown",
      "source": [
        "7.파이를 나타내는 PI=3.14를 전역 변수로 하여 원의 면적을 계산하는 함수 circleArea(radius)과 원의 둘레를 계산하는 함수 circleCircumference(radius)를 작성하고 테스트하라."
      ],
      "metadata": {
        "id": "RRDZP1TeEMSg"
      }
    },
    {
      "cell_type": "code",
      "source": [
        "PI = 3.14159265358979\n",
        "def circleArea(radius):\n",
        "  return PI*radius*radius\n",
        "def circleCircumference(radius):\n",
        "  return 2*PI*radius\n",
        "def main():\n",
        "  print('반지름이 5인 원의 면적:', circleArea(5))\n",
        "  print('반지름이 5인 원의 둘레:', circleCircumference(5))\n",
        "main()"
      ],
      "metadata": {
        "colab": {
          "base_uri": "https://localhost:8080/"
        },
        "id": "QIvx0xWmEOz6",
        "outputId": "6f29bebc-b354-46b3-e13d-b74b0294236e"
      },
      "execution_count": 4,
      "outputs": [
        {
          "output_type": "stream",
          "name": "stdout",
          "text": [
            "반지름이 5인 원의 면적: 78.53981633974475\n",
            "반지름이 5인 원의 둘레: 31.4159265358979\n"
          ]
        }
      ]
    },
    {
      "cell_type": "markdown",
      "source": [
        "8.덧셈, 뺄셈, 곱셈, 나눗셈을 수행하는 함수를 각각 작성하고 테스트하라."
      ],
      "metadata": {
        "id": "klLhPuTxESy3"
      }
    },
    {
      "cell_type": "code",
      "source": [
        "def add(a, b):\n",
        "  print( \"(%d + %d)\" % (a, b), end=\" \")\n",
        "  return a + b\n",
        "def subtract(a, b):\n",
        "  print (\"(%d - %d)\" % (a, b), end=\" \")\n",
        "  return a - b\n",
        "def multiply(a, b):\n",
        "  print (\"(%d * %d)\" % (a, b), end=\" \")\n",
        "  return a * b\n",
        "def divide(a, b):\n",
        "  print (\"(%d / %d)\" % (a, b), end=\" \")\n",
        "  return a / b\n",
        "what = add(20, 10)\n",
        "print(\"= \", what)"
      ],
      "metadata": {
        "colab": {
          "base_uri": "https://localhost:8080/"
        },
        "id": "JjRkkHCiEWLK",
        "outputId": "d508737b-f055-4c3b-9a5a-a45117bb0bd6"
      },
      "execution_count": 5,
      "outputs": [
        {
          "output_type": "stream",
          "name": "stdout",
          "text": [
            "(20 + 10) =  30\n"
          ]
        }
      ]
    }
  ]
}